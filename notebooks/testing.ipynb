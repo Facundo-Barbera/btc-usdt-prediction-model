{
 "cells": [
  {
   "cell_type": "markdown",
   "source": [
    "# Testing notebook\n",
    "\n",
    "    Note: The content of this will change constantly as I test new things.\n",
    "    If you wish to see previous versions, please check the git history. :)\n",
    "\n",
    "Here is some code I will use to test the project structure and the code itself.\n",
    "You can find the scripts in their respective folders."
   ],
   "metadata": {
    "collapsed": false
   },
   "id": "50cf0f58221978fd"
  },
  {
   "cell_type": "markdown",
   "source": [
    "# Testing the datasets\n",
    "\n",
    "Obtaining the data for this project is an easy step, but a very important one.\n",
    "In order to automate or streamline the process, I need to make sure the data is being stored properly.\n",
    "\n",
    "Currently, I'm storing 4 datasets, from the same source, but with different timeframes.\n",
    "The timeframes are the following:\n",
    "\n",
    "- 1 day\n",
    "- 1 hour\n",
    "- 30 minutes\n",
    "- 5 minutes\n",
    "\n",
    "I'm planning on also gathering a 1-minute timeframe dataset, \n",
    "but I will do that later, since it takes some time to gather the data.\n",
    "\n",
    "The next couple of cells will be used to test the datasets and make sure they are being stored properly.\n",
    "If you are having trouble running the cells, you might be missing a dataset.\n",
    "If you wish to fix this, please check the `data_collection` folder and the `data` folder."
   ],
   "metadata": {
    "collapsed": false
   },
   "id": "7fb18631d2cfad5"
  },
  {
   "cell_type": "code",
   "outputs": [
    {
     "name": "stdout",
     "output_type": "stream",
     "text": [
      "1d: (1151, 6)\n",
      "1h: (27593, 6)\n",
      "30m: (55181, 6)\n",
      "5m: (331071, 6)\n"
     ]
    }
   ],
   "source": [
    "import pandas as pd\n",
    "\n",
    "# Constants\n",
    "data_folder = '../data/raw'  # Modify this if you change the data folder\n",
    "prefix = 'bitcoin_history_'\n",
    "datasets = ['1d', '1h', '30m', '5m']  # Modify this if you change the datasets\n",
    "\n",
    "# Load the datasets\n",
    "data = {dataset: pd.read_csv(f'{data_folder}/{prefix}{dataset}.csv') for dataset in datasets}\n",
    "\n",
    "# Show the shape of each dataset\n",
    "for dataset, df in data.items():\n",
    "    print(f'{dataset}: {df.shape}')"
   ],
   "metadata": {
    "collapsed": false,
    "ExecuteTime": {
     "end_time": "2024-02-25T07:08:48.999140Z",
     "start_time": "2024-02-25T07:08:48.766973Z"
    }
   },
   "id": "7813f95ee9485406",
   "execution_count": 3
  }
 ],
 "metadata": {
  "kernelspec": {
   "display_name": "Python 3",
   "language": "python",
   "name": "python3"
  },
  "language_info": {
   "codemirror_mode": {
    "name": "ipython",
    "version": 2
   },
   "file_extension": ".py",
   "mimetype": "text/x-python",
   "name": "python",
   "nbconvert_exporter": "python",
   "pygments_lexer": "ipython2",
   "version": "2.7.6"
  }
 },
 "nbformat": 4,
 "nbformat_minor": 5
}
